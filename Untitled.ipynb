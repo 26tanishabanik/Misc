{
 "cells": [
  {
   "cell_type": "code",
   "execution_count": null,
   "metadata": {},
   "outputs": [],
   "source": [
    "pwd"
   ]
  },
  {
   "cell_type": "code",
   "execution_count": null,
   "metadata": {},
   "outputs": [],
   "source": [
    "import pandas as pd\n",
    "import numpy as np\n",
    "from matplotlib import pyplot as plt"
   ]
  },
  {
   "cell_type": "code",
   "execution_count": 3,
   "metadata": {},
   "outputs": [],
   "source": [
    "data=pd.read_csv(\"counterfeit_train.csv\")"
   ]
  },
  {
   "cell_type": "code",
   "execution_count": 4,
   "metadata": {},
   "outputs": [
    {
     "name": "stdout",
     "output_type": "stream",
     "text": [
      "  Medicine_ID  Counterfeit_Weight DistArea_ID  Active_Since  Medicine_MRP  \\\n",
      "0       RRA15              13.100     Area046          1995      160.2366   \n",
      "1       YVV26                 NaN     Area027          1983      110.4384   \n",
      "2       LJC15               9.025     Area046          1995      259.4092   \n",
      "3       GWC40              11.800     Area046          1995       99.9830   \n",
      "4       QMN13                 NaN     Area019          1983       56.4402   \n",
      "\n",
      "        Medicine_Type SidEffect_Level  Availability_rating  \\\n",
      "0        Antimalarial        critical             0.070422   \n",
      "1         Mstablizers            mild             0.013000   \n",
      "2             Cardiac            mild             0.060783   \n",
      "3  OralContraceptives            mild             0.065555   \n",
      "4       Hreplacements        critical             0.248859   \n",
      "\n",
      "            Area_Type Area_City_Type Area_dist_level  Counterfeit_Sales  \n",
      "0            DownTown         Tier 1           Small          1775.5026  \n",
      "1          CityLimits         Tier 3          Medium          3069.1520  \n",
      "2            DownTown         Tier 1           Small          2603.0920  \n",
      "3            DownTown         Tier 1           Small          1101.7130  \n",
      "4  MidTownResidential         Tier 1           Small           158.9402  \n"
     ]
    }
   ],
   "source": [
    "print(data.head())"
   ]
  },
  {
   "cell_type": "code",
   "execution_count": null,
   "metadata": {},
   "outputs": [],
   "source": [
    "X_train=data.iloc[:,1:12]\n",
    "Y_train=data.iloc[:,12]"
   ]
  },
  {
   "cell_type": "code",
   "execution_count": null,
   "metadata": {},
   "outputs": [],
   "source": [
    "X_train.isnull().sum()"
   ]
  },
  {
   "cell_type": "code",
   "execution_count": null,
   "metadata": {},
   "outputs": [],
   "source": [
    "from sklearn.preprocessing import OneHotEncoder\n"
   ]
  }
 ],
 "metadata": {
  "kernelspec": {
   "display_name": "Python 3",
   "language": "python",
   "name": "python3"
  },
  "language_info": {
   "codemirror_mode": {
    "name": "ipython",
    "version": 3
   },
   "file_extension": ".py",
   "mimetype": "text/x-python",
   "name": "python",
   "nbconvert_exporter": "python",
   "pygments_lexer": "ipython3",
   "version": "3.7.3"
  }
 },
 "nbformat": 4,
 "nbformat_minor": 2
}
