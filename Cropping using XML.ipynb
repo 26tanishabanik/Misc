{
 "cells": [
  {
   "cell_type": "code",
   "execution_count": 1,
   "metadata": {},
   "outputs": [],
   "source": [
    "import numpy as np # linear algebra\n",
    "import xml.etree.ElementTree as ET # for parsing XML\n",
    "import matplotlib.pyplot as plt # to show images\n",
    "from PIL import Image # to read images\n",
    "import os\n",
    "import glob\n",
    "\n"
   ]
  },
  {
   "cell_type": "code",
   "execution_count": 4,
   "metadata": {},
   "outputs": [],
   "source": [
    "root_images=r\"C:\\Users\\KIIT\\Downloads\\Dental_demo\"\n",
    "root_annots=r\"C:\\Users\\KIIT\\Downloads\\version-2\""
   ]
  },
  {
   "cell_type": "code",
   "execution_count": 6,
   "metadata": {},
   "outputs": [
    {
     "name": "stdout",
     "output_type": "stream",
     "text": [
      "Total images : 2\n"
     ]
    }
   ],
   "source": [
    "all_images=os.listdir(r\"C:\\Users\\KIIT\\Downloads\\Dental_demo\")\n",
    "print(f\"Total images : {len(all_images)}\") "
   ]
  },
  {
   "cell_type": "code",
   "execution_count": 7,
   "metadata": {},
   "outputs": [],
   "source": [
    "breeds = glob.glob(r\"C:\\Users\\KIIT\\Downloads\\version-2\")\n",
    "annotation=[]"
   ]
  },
  {
   "cell_type": "code",
   "execution_count": 8,
   "metadata": {},
   "outputs": [
    {
     "name": "stdout",
     "output_type": "stream",
     "text": [
      "Total annotation : 2\n"
     ]
    }
   ],
   "source": [
    "for b in breeds:\n",
    "    annotation+=glob.glob(b+\"/*\")\n",
    "print(f\"Total annotation : {len(annotation)}\")"
   ]
  },
  {
   "cell_type": "code",
   "execution_count": 10,
   "metadata": {},
   "outputs": [
    {
     "data": {
      "text/plain": [
       "['C:\\\\Users\\\\KIIT\\\\Downloads\\\\version-2\\\\1.xml',\n",
       " 'C:\\\\Users\\\\KIIT\\\\Downloads\\\\version-2\\\\2.xml']"
      ]
     },
     "execution_count": 10,
     "metadata": {},
     "output_type": "execute_result"
    }
   ],
   "source": [
    "annotation"
   ]
  },
  {
   "cell_type": "code",
   "execution_count": 14,
   "metadata": {},
   "outputs": [
    {
     "ename": "SyntaxError",
     "evalue": "EOL while scanning string literal (<ipython-input-14-4b8a96cc2a03>, line 4)",
     "output_type": "error",
     "traceback": [
      "\u001b[1;36m  File \u001b[1;32m\"<ipython-input-14-4b8a96cc2a03>\"\u001b[1;36m, line \u001b[1;32m4\u001b[0m\n\u001b[1;33m    index=breed.split(\"-\")[0]\u001b[0m\n\u001b[1;37m                             \n^\u001b[0m\n\u001b[1;31mSyntaxError\u001b[0m\u001b[1;31m:\u001b[0m EOL while scanning string literal\n"
     ]
    }
   ],
   "source": [
    "breed_map={}\n",
    "for annot in annotation:\n",
    "    breed=annot.split(\"..\\\")[-2]\n",
    "    index=breed.split(\"-\")[0]\n",
    "    breed_map.setdefault(index,breed)\n",
    "\n",
    "print(f\"Total Breeds : {len(breed_map)}\")"
   ]
  },
  {
   "cell_type": "code",
   "execution_count": 15,
   "metadata": {},
   "outputs": [],
   "source": [
    "def bounding_box(image):\n",
    "    bpath=root_annots+\"/\"+str(image.split(\".\")[0]+\".xml\")\n",
    "    tree = ET.parse(bpath)\n",
    "    root = tree.getroot()\n",
    "    objects = root.findall('object')\n",
    "    bboxes = [] #a list of all the bounding boxes for an image\n",
    "    for o in objects:\n",
    "        bndbox = o.find('bndbox') # reading bound box\n",
    "        xmin = int(bndbox.find('xmin').text)\n",
    "        ymin = int(bndbox.find('ymin').text)\n",
    "        xmax = int(bndbox.find('xmax').text)\n",
    "        ymax = int(bndbox.find('ymax').text)\n",
    "        bboxes.append(xmin,ymin,xmax,ymax)\n",
    "    return(bboxes)"
   ]
  },
  {
   "cell_type": "code",
   "execution_count": 20,
   "metadata": {},
   "outputs": [
    {
     "data": {
      "text/plain": [
       "<Figure size 720x720 with 0 Axes>"
      ]
     },
     "metadata": {},
     "output_type": "display_data"
    }
   ],
   "source": [
    "#plt.figure(figsize=(10,10))\n",
    "#bbox=[]\n",
    "plt.figure(figsize=(10,10))\n",
    "bbox=[]\n",
    "for i,image in enumerate(all_images):\n",
    "    bboxes=bounding_box(image) \n",
    "    j = 0\n",
    "    for bbox in bboxes:\n",
    "        im=Image.open(os.path.join(root_images,image))\n",
    "        im=im.crop(bbox)\n",
    "        Image.open(im)\n",
    "        im.save(r'C:\\Users\\KIIT\\Downloads\\result_imgs\\{}.jpg'.format(i,im,j))\n",
    "        j += 1"
   ]
  },
  {
   "cell_type": "code",
   "execution_count": 21,
   "metadata": {},
   "outputs": [],
   "source": [
    "pascalDirectory = r\"C:\\Users\\KIIT\\Downloads\\version-2\"\n",
    "imageDirectory = r\"C:\\Users\\KIIT\\Downloads\\Dental_demo\"\n",
    "saveDirectory = r\"C:\\Users\\KIIT\\Downloads\\result_imgs\""
   ]
  },
  {
   "cell_type": "code",
   "execution_count": 22,
   "metadata": {},
   "outputs": [],
   "source": [
    "import argparse\n",
    "import os\n",
    "import xml.etree.ElementTree as ET\n",
    "import time\n",
    "from tqdm import tqdm\n",
    "from PIL import Image\n",
    "\n",
    "# Main entry function to start the program\n",
    "def main():\n",
    "    parser = argparse.ArgumentParser()\n",
    "    parser.add_argument('pascalDirectory', metavar='pascalDirectory', type=str, help='A path to the directory with Pascal VOC XML files')\n",
    "    parser.add_argument('imageDirectory', metavar='imageDirectory', type=str, help='A path to the directory with images')\n",
    "    parser.add_argument('saveDirectory', metavar='saveDirectory', type=str, help='A path to the directory to save Pascal boundingbox images to')\n",
    "\n",
    "    args = parser.parse_args()\n",
    "\n",
    "    run(pascalDirectory, imageDirectory, saveDirectory)\n",
    "\n",
    "# Main function responsible for running necessary code\n",
    "def run(pascal_dir, image_dir, save_dir):\n",
    "    pascal_files = get_pascal_files(pascal_dir)\n",
    "    parsed_pascal_files = parse_pascal_files(pascal_files, image_dir)\n",
    "    make_dir(save_dir)\n",
    "    create_label_dirs(parsed_pascal_files.get('labels'), save_dir)\n",
    "    pascalvoc_to_images(parsed_pascal_files.get('pascal_data'), save_dir)\n",
    "\n",
    "# Get all PascalVOC xml files from a specific path\n",
    "def get_pascal_files(path):\n",
    "    # Array of dicts with file data\n",
    "    files = []\n",
    "    \n",
    "    # Loop through all files at a certain path\n",
    "    for file in tqdm(os.listdir(path)):\n",
    "        # Only consider XML\n",
    "        if file.endswith('.xml'):\n",
    "            # Store relevant file data\n",
    "            files.append({ 'base': path, 'filename': file, 'path': os.path.join(path, file)}) \n",
    "\n",
    "    return files\n",
    "\n",
    "# Parse a specific PascalVOC file to a usable dict format\n",
    "def parse_pascal_file(file, image_dir):\n",
    "    xml_path = file.get('path')\n",
    "\n",
    "    # XML root\n",
    "    xml = ET.parse(xml_path)\n",
    "\n",
    "    # Img name corresponding to XML\n",
    "    img_name = xml.find('filename').text\n",
    "\n",
    "    # Img path corresponding to XML\n",
    "    img_path = xml.find('path').text\n",
    "    \n",
    "    # Array of individual objects in a single PascalVOC XML file\n",
    "    objects = [] \n",
    "\n",
    "    # A set of labels within a single PascalVOC XML file \n",
    "    labels = set()\n",
    "    \n",
    "    # Loop through all labeled objects and add to items/labels\n",
    "    for i, obj in enumerate(xml.iter('object')):\n",
    "        # Number each individual object to be able to get multiple objects from one file\n",
    "        object_number = i + 1 \n",
    "        object_name = '{}_{}'.format(object_number, img_name)\n",
    "        object_label = obj.find('name').text \n",
    "        object_bndbox = obj.find('bndbox')\n",
    "        labels.add(obj.find('name').text)\n",
    "\n",
    "        items.append({\n",
    "            'path': os.path.join(image_dir, img_name), \n",
    "            'name': object_name, \n",
    "            'xmin': object_bndbox.find('xmin').text,\n",
    "            'xmax': object_bndbox.find('xmax').text, \n",
    "            'ymin': object_bndbox.find('ymin').text, \n",
    "            'ymax': object_bndbox.find('ymax').text, \n",
    "            'label': object_label\n",
    "        })\n",
    "    \n",
    "    return { 'items': items, 'labels': labels }\n",
    "\n",
    "# Parse all pascal files\n",
    "def parse_pascal_files(files, image_dir):\n",
    "    pascal_data = []\n",
    "    labels = set()\n",
    "    \n",
    "    # Loop through all PascalVOC XML files and parse them\n",
    "    for file in tqdm(files, ascii=True, desc=\"Parsing pascal files\"):\n",
    "        try:\n",
    "            parses = parse_pascal_file(file, image_dir)\n",
    "\n",
    "            # Merge all object labels\n",
    "            labels = labels.union(parses.get('labels'))\n",
    "\n",
    "            # Merge all pascal data \n",
    "            pascal_data += parses.get('items')\n",
    "        except Exception as e:\n",
    "            # Just error if a single file can't be read\n",
    "            print('Error reading PascalVOC XML file.')\n",
    "            print('ERROR:' + str(e))\n",
    "\n",
    "    return { 'pascal_data': pascal_data, 'labels': labels }\n",
    "\n",
    "# Loop through all PascalVOC data and cut an image from each\n",
    "def pascalvoc_to_images(pascal_data, save_path):\n",
    "    for item in tqdm(pascal_data, ascii=True, desc=\"Creating images from pascal data\"):\n",
    "        pascalvoc_to_image(item, save_path)\n",
    "\n",
    "# Cut an image from a PascalVOC file data\n",
    "def pascalvoc_to_image(pascal_data, save_path):\n",
    "    # Create the bndbox to cut from\n",
    "    bndbox = (int(pascal_data.get('xmin')), int(pascal_data.get('ymin')), int(pascal_data.get('xmax')), int(pascal_data.get('ymax')))\n",
    "\n",
    "    # Load the original image\n",
    "    image = Image.open(pascal_data.get('path'))\n",
    "\n",
    "    # Cut a new image from the image using bndbox\n",
    "    image = image.crop(bndbox)\n",
    "\n",
    "    try:\n",
    "        # Save the image to the save_path in the corresponding label folder\n",
    "        image.save(os.path.join(save_path, pascal_data.get('label'), pascal_data.get('name')))\n",
    "    except Exception as  e:\n",
    "        # Just error if a single image does not save\n",
    "        print('Error saving cut image')\n",
    "        print('ERROR: ' + str(e))\n",
    "\n",
    "# Function to create all label directories \n",
    "def create_label_dirs(labels, save_path):\n",
    "    for label in tqdm(labels, ascii=True, desc=\"Creating label directories\"):\n",
    "        make_dir(save_path, label)\n",
    "\n",
    "# Helper function to create a directory if it does not already exists\n",
    "def make_dir(path, name = ''):\n",
    "    path = os.path.abspath(os.path.join(path, name))\n",
    "\n",
    "    if not os.path.exists(path):\n",
    "        try:\n",
    "            os.makedirs(path)\n",
    "        except Exception as e:\n",
    "            # Raise if directory can't be made, because image cuts won't be saved.\n",
    "            print('Error creating directory')\n",
    "            raise e\n"
   ]
  },
  {
   "cell_type": "code",
   "execution_count": null,
   "metadata": {},
   "outputs": [],
   "source": []
  },
  {
   "cell_type": "code",
   "execution_count": null,
   "metadata": {},
   "outputs": [],
   "source": []
  },
  {
   "cell_type": "code",
   "execution_count": null,
   "metadata": {},
   "outputs": [],
   "source": []
  }
 ],
 "metadata": {
  "kernelspec": {
   "display_name": "Python 3",
   "language": "python",
   "name": "python3"
  },
  "language_info": {
   "codemirror_mode": {
    "name": "ipython",
    "version": 3
   },
   "file_extension": ".py",
   "mimetype": "text/x-python",
   "name": "python",
   "nbconvert_exporter": "python",
   "pygments_lexer": "ipython3",
   "version": "3.7.3"
  }
 },
 "nbformat": 4,
 "nbformat_minor": 4
}
